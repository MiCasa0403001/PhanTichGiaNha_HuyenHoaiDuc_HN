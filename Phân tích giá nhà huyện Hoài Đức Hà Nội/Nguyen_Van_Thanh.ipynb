{
 "cells": [
  {
   "cell_type": "code",
   "execution_count": 44,
   "metadata": {},
   "outputs": [],
   "source": [
    "import pandas as pd \n",
    "import numpy as np\n",
    "import matplotlib.pyplot as plt\n",
    "import seaborn as sns "
   ]
  },
  {
   "cell_type": "code",
   "execution_count": 45,
   "metadata": {},
   "outputs": [
    {
     "data": {
      "text/html": [
       "<div>\n",
       "<style scoped>\n",
       "    .dataframe tbody tr th:only-of-type {\n",
       "        vertical-align: middle;\n",
       "    }\n",
       "\n",
       "    .dataframe tbody tr th {\n",
       "        vertical-align: top;\n",
       "    }\n",
       "\n",
       "    .dataframe thead th {\n",
       "        text-align: right;\n",
       "    }\n",
       "</style>\n",
       "<table border=\"1\" class=\"dataframe\">\n",
       "  <thead>\n",
       "    <tr style=\"text-align: right;\">\n",
       "      <th></th>\n",
       "      <th>dien_tich</th>\n",
       "      <th>huong_ban_cong</th>\n",
       "      <th>phong_ngu</th>\n",
       "      <th>id_thanh_pho</th>\n",
       "      <th>ten_thanh_pho</th>\n",
       "      <th>id_quan</th>\n",
       "      <th>ten_quan</th>\n",
       "      <th>so_tang</th>\n",
       "      <th>mat_tien</th>\n",
       "      <th>noi_that</th>\n",
       "      <th>...</th>\n",
       "      <th>gia</th>\n",
       "      <th>gia_m2</th>\n",
       "      <th>du_an</th>\n",
       "      <th>project_name</th>\n",
       "      <th>id_duong</th>\n",
       "      <th>ten_duong</th>\n",
       "      <th>do_rong_duong</th>\n",
       "      <th>do_rong_duong_ml</th>\n",
       "      <th>id_phuong</th>\n",
       "      <th>ten_phuong</th>\n",
       "    </tr>\n",
       "  </thead>\n",
       "  <tbody>\n",
       "    <tr>\n",
       "      <th>0</th>\n",
       "      <td>35.5</td>\n",
       "      <td>NaN</td>\n",
       "      <td>NaN</td>\n",
       "      <td>5e5501caeb80a7245175dddb</td>\n",
       "      <td>Thành phố Hà Nội</td>\n",
       "      <td>5e5501caeb80a7245175de20</td>\n",
       "      <td>Huyện Hoài Đức</td>\n",
       "      <td>NaN</td>\n",
       "      <td>3.26</td>\n",
       "      <td>NaN</td>\n",
       "      <td>...</td>\n",
       "      <td>1242.5</td>\n",
       "      <td>35.000000</td>\n",
       "      <td>NaN</td>\n",
       "      <td>NaN</td>\n",
       "      <td>5e958eef208d0d6d76490e81</td>\n",
       "      <td>Đường Yên Vĩnh</td>\n",
       "      <td>NaN</td>\n",
       "      <td>NaN</td>\n",
       "      <td>5e5501cceb80a7245175e24f</td>\n",
       "      <td>Xã Kim Chung</td>\n",
       "    </tr>\n",
       "    <tr>\n",
       "      <th>1</th>\n",
       "      <td>85.0</td>\n",
       "      <td>NaN</td>\n",
       "      <td>NaN</td>\n",
       "      <td>5e5501caeb80a7245175dddb</td>\n",
       "      <td>Thành phố Hà Nội</td>\n",
       "      <td>5e5501caeb80a7245175de20</td>\n",
       "      <td>Huyện Hoài Đức</td>\n",
       "      <td>NaN</td>\n",
       "      <td>NaN</td>\n",
       "      <td>NaN</td>\n",
       "      <td>...</td>\n",
       "      <td>1700.0</td>\n",
       "      <td>20.000000</td>\n",
       "      <td>NaN</td>\n",
       "      <td>NaN</td>\n",
       "      <td>NaN</td>\n",
       "      <td>NaN</td>\n",
       "      <td>2.0</td>\n",
       "      <td>Ngõ ngách</td>\n",
       "      <td>5e5501cceb80a7245175e258</td>\n",
       "      <td>Xã An Thượng</td>\n",
       "    </tr>\n",
       "    <tr>\n",
       "      <th>2</th>\n",
       "      <td>50.7</td>\n",
       "      <td>NaN</td>\n",
       "      <td>NaN</td>\n",
       "      <td>5e5501caeb80a7245175dddb</td>\n",
       "      <td>Thành phố Hà Nội</td>\n",
       "      <td>5e5501caeb80a7245175de20</td>\n",
       "      <td>Huyện Hoài Đức</td>\n",
       "      <td>NaN</td>\n",
       "      <td>4.60</td>\n",
       "      <td>NaN</td>\n",
       "      <td>...</td>\n",
       "      <td>1622.4</td>\n",
       "      <td>32.000000</td>\n",
       "      <td>NaN</td>\n",
       "      <td>NaN</td>\n",
       "      <td>NaN</td>\n",
       "      <td>NaN</td>\n",
       "      <td>2.0</td>\n",
       "      <td>Ngõ ngách</td>\n",
       "      <td>NaN</td>\n",
       "      <td>NaN</td>\n",
       "    </tr>\n",
       "    <tr>\n",
       "      <th>3</th>\n",
       "      <td>30.4</td>\n",
       "      <td>NaN</td>\n",
       "      <td>NaN</td>\n",
       "      <td>5e5501caeb80a7245175dddb</td>\n",
       "      <td>Thành phố Hà Nội</td>\n",
       "      <td>5e5501caeb80a7245175de20</td>\n",
       "      <td>Huyện Hoài Đức</td>\n",
       "      <td>NaN</td>\n",
       "      <td>NaN</td>\n",
       "      <td>NaN</td>\n",
       "      <td>...</td>\n",
       "      <td>1100.0</td>\n",
       "      <td>36.184211</td>\n",
       "      <td>NaN</td>\n",
       "      <td>NaN</td>\n",
       "      <td>NaN</td>\n",
       "      <td>NaN</td>\n",
       "      <td>2.0</td>\n",
       "      <td>Ngõ ngách</td>\n",
       "      <td>5e5501cceb80a7245175e25a</td>\n",
       "      <td>Xã La Phù</td>\n",
       "    </tr>\n",
       "    <tr>\n",
       "      <th>4</th>\n",
       "      <td>41.0</td>\n",
       "      <td>NaN</td>\n",
       "      <td>NaN</td>\n",
       "      <td>5e5501caeb80a7245175dddb</td>\n",
       "      <td>Thành phố Hà Nội</td>\n",
       "      <td>5e5501caeb80a7245175de20</td>\n",
       "      <td>Huyện Hoài Đức</td>\n",
       "      <td>NaN</td>\n",
       "      <td>NaN</td>\n",
       "      <td>NaN</td>\n",
       "      <td>...</td>\n",
       "      <td>1480.0</td>\n",
       "      <td>36.097561</td>\n",
       "      <td>NaN</td>\n",
       "      <td>NaN</td>\n",
       "      <td>5e958eef208d0d6d76490e54</td>\n",
       "      <td>Đường Lai Xá</td>\n",
       "      <td>NaN</td>\n",
       "      <td>NaN</td>\n",
       "      <td>5e5501cceb80a7245175e24f</td>\n",
       "      <td>Xã Kim Chung</td>\n",
       "    </tr>\n",
       "  </tbody>\n",
       "</table>\n",
       "<p>5 rows × 24 columns</p>\n",
       "</div>"
      ],
      "text/plain": [
       "   dien_tich huong_ban_cong  phong_ngu              id_thanh_pho  \\\n",
       "0       35.5            NaN        NaN  5e5501caeb80a7245175dddb   \n",
       "1       85.0            NaN        NaN  5e5501caeb80a7245175dddb   \n",
       "2       50.7            NaN        NaN  5e5501caeb80a7245175dddb   \n",
       "3       30.4            NaN        NaN  5e5501caeb80a7245175dddb   \n",
       "4       41.0            NaN        NaN  5e5501caeb80a7245175dddb   \n",
       "\n",
       "      ten_thanh_pho                   id_quan        ten_quan  so_tang  \\\n",
       "0  Thành phố Hà Nội  5e5501caeb80a7245175de20  Huyện Hoài Đức      NaN   \n",
       "1  Thành phố Hà Nội  5e5501caeb80a7245175de20  Huyện Hoài Đức      NaN   \n",
       "2  Thành phố Hà Nội  5e5501caeb80a7245175de20  Huyện Hoài Đức      NaN   \n",
       "3  Thành phố Hà Nội  5e5501caeb80a7245175de20  Huyện Hoài Đức      NaN   \n",
       "4  Thành phố Hà Nội  5e5501caeb80a7245175de20  Huyện Hoài Đức      NaN   \n",
       "\n",
       "   mat_tien noi_that  ...     gia     gia_m2  du_an  project_name  \\\n",
       "0      3.26      NaN  ...  1242.5  35.000000    NaN           NaN   \n",
       "1       NaN      NaN  ...  1700.0  20.000000    NaN           NaN   \n",
       "2      4.60      NaN  ...  1622.4  32.000000    NaN           NaN   \n",
       "3       NaN      NaN  ...  1100.0  36.184211    NaN           NaN   \n",
       "4       NaN      NaN  ...  1480.0  36.097561    NaN           NaN   \n",
       "\n",
       "                   id_duong       ten_duong do_rong_duong do_rong_duong_ml  \\\n",
       "0  5e958eef208d0d6d76490e81  Đường Yên Vĩnh           NaN              NaN   \n",
       "1                       NaN             NaN           2.0        Ngõ ngách   \n",
       "2                       NaN             NaN           2.0        Ngõ ngách   \n",
       "3                       NaN             NaN           2.0        Ngõ ngách   \n",
       "4  5e958eef208d0d6d76490e54    Đường Lai Xá           NaN              NaN   \n",
       "\n",
       "                  id_phuong    ten_phuong  \n",
       "0  5e5501cceb80a7245175e24f  Xã Kim Chung  \n",
       "1  5e5501cceb80a7245175e258  Xã An Thượng  \n",
       "2                       NaN           NaN  \n",
       "3  5e5501cceb80a7245175e25a     Xã La Phù  \n",
       "4  5e5501cceb80a7245175e24f  Xã Kim Chung  \n",
       "\n",
       "[5 rows x 24 columns]"
      ]
     },
     "execution_count": 45,
     "metadata": {},
     "output_type": "execute_result"
    }
   ],
   "source": [
    "df_HD = pd.read_csv('landtradingHD.csv').drop(columns=['Unnamed: 0'])\n",
    "df_HD.head()"
   ]
  },
  {
   "cell_type": "code",
   "execution_count": 46,
   "metadata": {},
   "outputs": [
    {
     "name": "stdout",
     "output_type": "stream",
     "text": [
      "<class 'pandas.core.frame.DataFrame'>\n",
      "RangeIndex: 1781 entries, 0 to 1780\n",
      "Data columns (total 24 columns):\n",
      " #   Column            Non-Null Count  Dtype  \n",
      "---  ------            --------------  -----  \n",
      " 0   dien_tich         1756 non-null   float64\n",
      " 1   huong_ban_cong    17 non-null     object \n",
      " 2   phong_ngu         28 non-null     float64\n",
      " 3   id_thanh_pho      1781 non-null   object \n",
      " 4   ten_thanh_pho     1781 non-null   object \n",
      " 5   id_quan           1781 non-null   object \n",
      " 6   ten_quan          1781 non-null   object \n",
      " 7   so_tang           51 non-null     float64\n",
      " 8   mat_tien          1069 non-null   float64\n",
      " 9   noi_that          18 non-null     object \n",
      " 10  huong_nha         876 non-null    object \n",
      " 11  so_do             859 non-null    object \n",
      " 12  lat               1779 non-null   float64\n",
      " 13  long              1779 non-null   float64\n",
      " 14  gia               1250 non-null   float64\n",
      " 15  gia_m2            1265 non-null   float64\n",
      " 16  du_an             7 non-null      object \n",
      " 17  project_name      7 non-null      object \n",
      " 18  id_duong          1275 non-null   object \n",
      " 19  ten_duong         1275 non-null   object \n",
      " 20  do_rong_duong     214 non-null    float64\n",
      " 21  do_rong_duong_ml  243 non-null    object \n",
      " 22  id_phuong         1535 non-null   object \n",
      " 23  ten_phuong        1535 non-null   object \n",
      "dtypes: float64(9), object(15)\n",
      "memory usage: 334.1+ KB\n",
      "(1781, 24)\n"
     ]
    }
   ],
   "source": [
    "df_HD.info()\n",
    "print(df_HD.shape)"
   ]
  },
  {
   "cell_type": "code",
   "execution_count": 47,
   "metadata": {},
   "outputs": [],
   "source": [
    "df_HD = df_HD.drop_duplicates().reset_index().drop(columns = 'index')"
   ]
  },
  {
   "cell_type": "code",
   "execution_count": 48,
   "metadata": {},
   "outputs": [],
   "source": [
    "#### Chọn các đặc tính có ảnh hưởng tới giá và giá trên m2\n",
    "df_HD = df_HD[['dien_tich', 'huong_ban_cong', 'phong_ngu','so_tang','mat_tien',\n",
    "    'noi_that', 'huong_nha', 'gia','gia_m2','do_rong_duong', 'do_rong_duong_ml']]"
   ]
  },
  {
   "cell_type": "code",
   "execution_count": 49,
   "metadata": {},
   "outputs": [
    {
     "name": "stdout",
     "output_type": "stream",
     "text": [
      "<class 'pandas.core.frame.DataFrame'>\n",
      "RangeIndex: 1722 entries, 0 to 1721\n",
      "Data columns (total 11 columns):\n",
      " #   Column            Non-Null Count  Dtype  \n",
      "---  ------            --------------  -----  \n",
      " 0   dien_tich         1698 non-null   float64\n",
      " 1   huong_ban_cong    17 non-null     object \n",
      " 2   phong_ngu         28 non-null     float64\n",
      " 3   so_tang           51 non-null     float64\n",
      " 4   mat_tien          1037 non-null   float64\n",
      " 5   noi_that          18 non-null     object \n",
      " 6   huong_nha         845 non-null    object \n",
      " 7   gia               1219 non-null   float64\n",
      " 8   gia_m2            1234 non-null   float64\n",
      " 9   do_rong_duong     207 non-null    float64\n",
      " 10  do_rong_duong_ml  236 non-null    object \n",
      "dtypes: float64(7), object(4)\n",
      "memory usage: 148.1+ KB\n"
     ]
    }
   ],
   "source": [
    "df_HD.info()"
   ]
  },
  {
   "cell_type": "code",
   "execution_count": 50,
   "metadata": {},
   "outputs": [
    {
     "data": {
      "text/plain": [
       "huong_ban_cong      1705\n",
       "noi_that            1704\n",
       "phong_ngu           1694\n",
       "so_tang             1671\n",
       "do_rong_duong       1515\n",
       "do_rong_duong_ml    1486\n",
       "huong_nha            877\n",
       "mat_tien             685\n",
       "gia                  503\n",
       "gia_m2               488\n",
       "dien_tich             24\n",
       "dtype: int64"
      ]
     },
     "execution_count": 50,
     "metadata": {},
     "output_type": "execute_result"
    }
   ],
   "source": [
    "df_HD.isnull().sum().sort_values(ascending=False)"
   ]
  },
  {
   "cell_type": "code",
   "execution_count": 52,
   "metadata": {},
   "outputs": [
    {
     "data": {
      "text/plain": [
       "dien_tich             24\n",
       "huong_ban_cong      1705\n",
       "phong_ngu           1694\n",
       "so_tang             1671\n",
       "mat_tien             685\n",
       "noi_that            1704\n",
       "huong_nha            877\n",
       "gia                  503\n",
       "gia_m2               488\n",
       "do_rong_duong       1515\n",
       "do_rong_duong_ml    1486\n",
       "dtype: int64"
      ]
     },
     "execution_count": 52,
     "metadata": {},
     "output_type": "execute_result"
    }
   ],
   "source": [
    "df_HD.isnull().sum()"
   ]
  },
  {
   "cell_type": "code",
   "execution_count": 54,
   "metadata": {},
   "outputs": [
    {
     "data": {
      "text/plain": [
       "(1722, 11)"
      ]
     },
     "execution_count": 54,
     "metadata": {},
     "output_type": "execute_result"
    }
   ],
   "source": []
  },
  {
   "cell_type": "code",
   "execution_count": 55,
   "metadata": {},
   "outputs": [
    {
     "data": {
      "text/plain": [
       "dien_tich             24\n",
       "huong_ban_cong      1705\n",
       "phong_ngu           1694\n",
       "so_tang             1671\n",
       "mat_tien             685\n",
       "noi_that            1704\n",
       "huong_nha            877\n",
       "gia                  503\n",
       "gia_m2               488\n",
       "do_rong_duong       1515\n",
       "do_rong_duong_ml    1486\n",
       "dtype: int64"
      ]
     },
     "execution_count": 55,
     "metadata": {},
     "output_type": "execute_result"
    }
   ],
   "source": [
    "df_HD.isnull().sum()"
   ]
  },
  {
   "cell_type": "code",
   "execution_count": 53,
   "metadata": {},
   "outputs": [
    {
     "data": {
      "text/plain": [
       "dien_tich           1722\n",
       "huong_ban_cong      1722\n",
       "phong_ngu           1722\n",
       "so_tang             1722\n",
       "mat_tien            1722\n",
       "noi_that            1722\n",
       "huong_nha           1722\n",
       "gia                 1722\n",
       "gia_m2              1722\n",
       "do_rong_duong       1722\n",
       "do_rong_duong_ml    1722\n",
       "dtype: int64"
      ]
     },
     "execution_count": 53,
     "metadata": {},
     "output_type": "execute_result"
    }
   ],
   "source": [
    "df_HD.isnull().count().sort_values(ascending=False)"
   ]
  },
  {
   "cell_type": "code",
   "execution_count": 8,
   "metadata": {},
   "outputs": [
    {
     "data": {
      "text/html": [
       "<div>\n",
       "<style scoped>\n",
       "    .dataframe tbody tr th:only-of-type {\n",
       "        vertical-align: middle;\n",
       "    }\n",
       "\n",
       "    .dataframe tbody tr th {\n",
       "        vertical-align: top;\n",
       "    }\n",
       "\n",
       "    .dataframe thead th {\n",
       "        text-align: right;\n",
       "    }\n",
       "</style>\n",
       "<table border=\"1\" class=\"dataframe\">\n",
       "  <thead>\n",
       "    <tr style=\"text-align: right;\">\n",
       "      <th></th>\n",
       "      <th>Total</th>\n",
       "      <th>Percent</th>\n",
       "    </tr>\n",
       "  </thead>\n",
       "  <tbody>\n",
       "    <tr>\n",
       "      <th>huong_ban_cong</th>\n",
       "      <td>1705</td>\n",
       "      <td>0.990128</td>\n",
       "    </tr>\n",
       "    <tr>\n",
       "      <th>noi_that</th>\n",
       "      <td>1704</td>\n",
       "      <td>0.989547</td>\n",
       "    </tr>\n",
       "    <tr>\n",
       "      <th>phong_ngu</th>\n",
       "      <td>1694</td>\n",
       "      <td>0.983740</td>\n",
       "    </tr>\n",
       "    <tr>\n",
       "      <th>so_tang</th>\n",
       "      <td>1671</td>\n",
       "      <td>0.970383</td>\n",
       "    </tr>\n",
       "    <tr>\n",
       "      <th>do_rong_duong</th>\n",
       "      <td>1515</td>\n",
       "      <td>0.879791</td>\n",
       "    </tr>\n",
       "    <tr>\n",
       "      <th>do_rong_duong_ml</th>\n",
       "      <td>1486</td>\n",
       "      <td>0.862950</td>\n",
       "    </tr>\n",
       "    <tr>\n",
       "      <th>huong_nha</th>\n",
       "      <td>877</td>\n",
       "      <td>0.509292</td>\n",
       "    </tr>\n",
       "    <tr>\n",
       "      <th>mat_tien</th>\n",
       "      <td>685</td>\n",
       "      <td>0.397793</td>\n",
       "    </tr>\n",
       "    <tr>\n",
       "      <th>gia</th>\n",
       "      <td>503</td>\n",
       "      <td>0.292102</td>\n",
       "    </tr>\n",
       "    <tr>\n",
       "      <th>gia_m2</th>\n",
       "      <td>488</td>\n",
       "      <td>0.283391</td>\n",
       "    </tr>\n",
       "    <tr>\n",
       "      <th>dien_tich</th>\n",
       "      <td>24</td>\n",
       "      <td>0.013937</td>\n",
       "    </tr>\n",
       "  </tbody>\n",
       "</table>\n",
       "</div>"
      ],
      "text/plain": [
       "                  Total   Percent\n",
       "huong_ban_cong     1705  0.990128\n",
       "noi_that           1704  0.989547\n",
       "phong_ngu          1694  0.983740\n",
       "so_tang            1671  0.970383\n",
       "do_rong_duong      1515  0.879791\n",
       "do_rong_duong_ml   1486  0.862950\n",
       "huong_nha           877  0.509292\n",
       "mat_tien            685  0.397793\n",
       "gia                 503  0.292102\n",
       "gia_m2              488  0.283391\n",
       "dien_tich            24  0.013937"
      ]
     },
     "execution_count": 8,
     "metadata": {},
     "output_type": "execute_result"
    },
    {
     "data": {
      "image/png": "[encoded data removed]",
      "text/plain": [
       "<Figure size 1080x432 with 1 Axes>"
      ]
     },
     "metadata": {
      "needs_background": "light"
     },
     "output_type": "display_data"
    }
   ],
   "source": [
    "# Nhìn dữ trên có thể thấy rằng rất nhiều cột có dữ liệu missing\n",
    "total = df_HD.isnull().sum().sort_values(ascending=False)\n",
    "percent = (df_HD.isnull().sum()/df_HD.isnull().count()).sort_values(ascending=False)\n",
    "# phần trăm khuyết = số lượng khuyết / tổng số dòng.\n",
    "missing_data = pd.concat([total, percent], axis=1, keys=['Total', 'Percent'])\n",
    "\n",
    "# Visualization missing data\n",
    "f, ax = plt.subplots(figsize=(15, 6))\n",
    "plt.xticks(rotation='90')\n",
    "sns.barplot(x=missing_data.index, y=missing_data['Percent'])\n",
    "plt.xlabel('Features', fontsize=15)\n",
    "plt.ylabel('Percent of missing values', fontsize=15)\n",
    "plt.title('Percent missing data by feature', fontsize=15)\n",
    "plt.grid()\n",
    "missing_data"
   ]
  },
  {
   "cell_type": "code",
   "execution_count": 9,
   "metadata": {},
   "outputs": [
    {
     "data": {
      "text/html": [
       "<div>\n",
       "<style scoped>\n",
       "    .dataframe tbody tr th:only-of-type {\n",
       "        vertical-align: middle;\n",
       "    }\n",
       "\n",
       "    .dataframe tbody tr th {\n",
       "        vertical-align: top;\n",
       "    }\n",
       "\n",
       "    .dataframe thead th {\n",
       "        text-align: right;\n",
       "    }\n",
       "</style>\n",
       "<table border=\"1\" class=\"dataframe\">\n",
       "  <thead>\n",
       "    <tr style=\"text-align: right;\">\n",
       "      <th></th>\n",
       "      <th>dien_tich</th>\n",
       "      <th>huong_ban_cong</th>\n",
       "      <th>phong_ngu</th>\n",
       "      <th>so_tang</th>\n",
       "      <th>mat_tien</th>\n",
       "      <th>noi_that</th>\n",
       "      <th>huong_nha</th>\n",
       "      <th>gia</th>\n",
       "      <th>gia_m2</th>\n",
       "      <th>do_rong_duong</th>\n",
       "      <th>do_rong_duong_ml</th>\n",
       "    </tr>\n",
       "  </thead>\n",
       "  <tbody>\n",
       "    <tr>\n",
       "      <th>0</th>\n",
       "      <td>35.5</td>\n",
       "      <td>NaN</td>\n",
       "      <td>NaN</td>\n",
       "      <td>NaN</td>\n",
       "      <td>3.26</td>\n",
       "      <td>NaN</td>\n",
       "      <td>NaN</td>\n",
       "      <td>1242.5</td>\n",
       "      <td>35.000000</td>\n",
       "      <td>NaN</td>\n",
       "      <td>NaN</td>\n",
       "    </tr>\n",
       "    <tr>\n",
       "      <th>1</th>\n",
       "      <td>85.0</td>\n",
       "      <td>NaN</td>\n",
       "      <td>NaN</td>\n",
       "      <td>NaN</td>\n",
       "      <td>NaN</td>\n",
       "      <td>NaN</td>\n",
       "      <td>KXĐ</td>\n",
       "      <td>1700.0</td>\n",
       "      <td>20.000000</td>\n",
       "      <td>2.0</td>\n",
       "      <td>Ngõ ngách</td>\n",
       "    </tr>\n",
       "    <tr>\n",
       "      <th>2</th>\n",
       "      <td>50.7</td>\n",
       "      <td>NaN</td>\n",
       "      <td>NaN</td>\n",
       "      <td>NaN</td>\n",
       "      <td>4.60</td>\n",
       "      <td>NaN</td>\n",
       "      <td>KXĐ</td>\n",
       "      <td>1622.4</td>\n",
       "      <td>32.000000</td>\n",
       "      <td>2.0</td>\n",
       "      <td>Ngõ ngách</td>\n",
       "    </tr>\n",
       "    <tr>\n",
       "      <th>3</th>\n",
       "      <td>30.4</td>\n",
       "      <td>NaN</td>\n",
       "      <td>NaN</td>\n",
       "      <td>NaN</td>\n",
       "      <td>NaN</td>\n",
       "      <td>NaN</td>\n",
       "      <td>KXĐ</td>\n",
       "      <td>1100.0</td>\n",
       "      <td>36.184211</td>\n",
       "      <td>2.0</td>\n",
       "      <td>Ngõ ngách</td>\n",
       "    </tr>\n",
       "    <tr>\n",
       "      <th>4</th>\n",
       "      <td>41.0</td>\n",
       "      <td>NaN</td>\n",
       "      <td>NaN</td>\n",
       "      <td>NaN</td>\n",
       "      <td>NaN</td>\n",
       "      <td>NaN</td>\n",
       "      <td>NaN</td>\n",
       "      <td>1480.0</td>\n",
       "      <td>36.097561</td>\n",
       "      <td>NaN</td>\n",
       "      <td>NaN</td>\n",
       "    </tr>\n",
       "    <tr>\n",
       "      <th>...</th>\n",
       "      <td>...</td>\n",
       "      <td>...</td>\n",
       "      <td>...</td>\n",
       "      <td>...</td>\n",
       "      <td>...</td>\n",
       "      <td>...</td>\n",
       "      <td>...</td>\n",
       "      <td>...</td>\n",
       "      <td>...</td>\n",
       "      <td>...</td>\n",
       "      <td>...</td>\n",
       "    </tr>\n",
       "    <tr>\n",
       "      <th>1717</th>\n",
       "      <td>32.0</td>\n",
       "      <td>NaN</td>\n",
       "      <td>NaN</td>\n",
       "      <td>NaN</td>\n",
       "      <td>NaN</td>\n",
       "      <td>NaN</td>\n",
       "      <td>NaN</td>\n",
       "      <td>1040.0</td>\n",
       "      <td>32.500000</td>\n",
       "      <td>NaN</td>\n",
       "      <td>NaN</td>\n",
       "    </tr>\n",
       "    <tr>\n",
       "      <th>1718</th>\n",
       "      <td>50.0</td>\n",
       "      <td>NaN</td>\n",
       "      <td>NaN</td>\n",
       "      <td>NaN</td>\n",
       "      <td>NaN</td>\n",
       "      <td>NaN</td>\n",
       "      <td>NaN</td>\n",
       "      <td>1710.0</td>\n",
       "      <td>34.200000</td>\n",
       "      <td>NaN</td>\n",
       "      <td>NaN</td>\n",
       "    </tr>\n",
       "    <tr>\n",
       "      <th>1719</th>\n",
       "      <td>47.0</td>\n",
       "      <td>NaN</td>\n",
       "      <td>NaN</td>\n",
       "      <td>NaN</td>\n",
       "      <td>5.00</td>\n",
       "      <td>NaN</td>\n",
       "      <td>KXĐ</td>\n",
       "      <td>3650.0</td>\n",
       "      <td>77.659574</td>\n",
       "      <td>7.0</td>\n",
       "      <td>Ngõ 3 ô tô tránh</td>\n",
       "    </tr>\n",
       "    <tr>\n",
       "      <th>1720</th>\n",
       "      <td>39.0</td>\n",
       "      <td>NaN</td>\n",
       "      <td>NaN</td>\n",
       "      <td>NaN</td>\n",
       "      <td>NaN</td>\n",
       "      <td>NaN</td>\n",
       "      <td>KXĐ</td>\n",
       "      <td>NaN</td>\n",
       "      <td>NaN</td>\n",
       "      <td>NaN</td>\n",
       "      <td>NaN</td>\n",
       "    </tr>\n",
       "    <tr>\n",
       "      <th>1721</th>\n",
       "      <td>61.0</td>\n",
       "      <td>NaN</td>\n",
       "      <td>NaN</td>\n",
       "      <td>NaN</td>\n",
       "      <td>3.93</td>\n",
       "      <td>NaN</td>\n",
       "      <td>NaN</td>\n",
       "      <td>3416.0</td>\n",
       "      <td>56.000000</td>\n",
       "      <td>NaN</td>\n",
       "      <td>NaN</td>\n",
       "    </tr>\n",
       "  </tbody>\n",
       "</table>\n",
       "<p>1722 rows × 11 columns</p>\n",
       "</div>"
      ],
      "text/plain": [
       "      dien_tich huong_ban_cong  phong_ngu  so_tang  mat_tien noi_that  \\\n",
       "0          35.5            NaN        NaN      NaN      3.26      NaN   \n",
       "1          85.0            NaN        NaN      NaN       NaN      NaN   \n",
       "2          50.7            NaN        NaN      NaN      4.60      NaN   \n",
       "3          30.4            NaN        NaN      NaN       NaN      NaN   \n",
       "4          41.0            NaN        NaN      NaN       NaN      NaN   \n",
       "...         ...            ...        ...      ...       ...      ...   \n",
       "1717       32.0            NaN        NaN      NaN       NaN      NaN   \n",
       "1718       50.0            NaN        NaN      NaN       NaN      NaN   \n",
       "1719       47.0            NaN        NaN      NaN      5.00      NaN   \n",
       "1720       39.0            NaN        NaN      NaN       NaN      NaN   \n",
       "1721       61.0            NaN        NaN      NaN      3.93      NaN   \n",
       "\n",
       "     huong_nha     gia     gia_m2  do_rong_duong  do_rong_duong_ml  \n",
       "0          NaN  1242.5  35.000000            NaN               NaN  \n",
       "1          KXĐ  1700.0  20.000000            2.0         Ngõ ngách  \n",
       "2          KXĐ  1622.4  32.000000            2.0         Ngõ ngách  \n",
       "3          KXĐ  1100.0  36.184211            2.0         Ngõ ngách  \n",
       "4          NaN  1480.0  36.097561            NaN               NaN  \n",
       "...        ...     ...        ...            ...               ...  \n",
       "1717       NaN  1040.0  32.500000            NaN               NaN  \n",
       "1718       NaN  1710.0  34.200000            NaN               NaN  \n",
       "1719       KXĐ  3650.0  77.659574            7.0  Ngõ 3 ô tô tránh  \n",
       "1720       KXĐ     NaN        NaN            NaN               NaN  \n",
       "1721       NaN  3416.0  56.000000            NaN               NaN  \n",
       "\n",
       "[1722 rows x 11 columns]"
      ]
     },
     "execution_count": 9,
     "metadata": {},
     "output_type": "execute_result"
    }
   ],
   "source": [
    "df_HD"
   ]
  },
  {
   "cell_type": "code",
   "execution_count": 10,
   "metadata": {},
   "outputs": [],
   "source": [
    "# các giá trị hướng ban công, nội thất, phòng ngủ, số tầng gần 100% missing nên quyết định xóa\n",
    "df_HD.drop(columns=['huong_ban_cong','noi_that','so_tang','phong_ngu'], inplace=True)"
   ]
  },
  {
   "cell_type": "code",
   "execution_count": 11,
   "metadata": {},
   "outputs": [
    {
     "name": "stdout",
     "output_type": "stream",
     "text": [
      "0\n"
     ]
    }
   ],
   "source": [
    "# xử lý feature hướng nhà \n",
    "df_HD['huong_nha'].value_counts()\n",
    "# Hướng nhà KXĐ có 147 giá trị và theo biểu đồ thì có thể thấy hướng nhà có trên 50% là missing\n",
    "# => có thể đánh giá rằng 50% dữ liệu bị missing là KXĐ vì vậy chúng ta sẽ fill vào vị trí các giá trị missing là KXĐ\n",
    "df_HD['huong_nha'].fillna(\"KXĐ\",inplace=True)\n",
    "\n",
    "print(df_HD['huong_nha'].isna().sum())\n",
    "df_HD['huong_nha'].replace(['Tây-Nam','Đông-Nam','Tây-Bắc','Đông-Bắc'],['Tây Nam','Đông Nam','Tây Bắc','Đông Bắc'],inplace=True)"
   ]
  },
  {
   "cell_type": "code",
   "execution_count": 12,
   "metadata": {},
   "outputs": [
    {
     "data": {
      "text/plain": [
       "KXĐ                   1486\n",
       "Ngõ 1 ô tô              84\n",
       "Ngõ 4 ô tô trở lên      51\n",
       "Ngõ 4 ô tô tránh        36\n",
       "Ngõ ngách               34\n",
       "Ngõ 3 ô tô tránh        16\n",
       "Ngõ 2 ô tô tránh        15\n",
       "Name: do_rong_duong_ml, dtype: int64"
      ]
     },
     "execution_count": 12,
     "metadata": {},
     "output_type": "execute_result"
    }
   ],
   "source": [
    "# xử lý feature do_rong_duong_ml\n",
    "# điền KXĐ vào Nan\n",
    "df_HD['do_rong_duong_ml'].fillna(\"KXĐ\",inplace=True)\n",
    "df_HD['do_rong_duong_ml'].value_counts()"
   ]
  },
  {
   "cell_type": "code",
   "execution_count": 13,
   "metadata": {},
   "outputs": [],
   "source": [
    "# xử lý feature dien_tich, do_rong_duong ,giá, mat_tien sẽ fill mean : fill mean\n",
    "df_HD['do_rong_duong'].fillna(df_HD['do_rong_duong'].mean(),inplace=True)\n",
    "df_HD['mat_tien'].fillna(df_HD['mat_tien'].mean(),inplace=True)\n",
    "df_HD['do_rong_duong'].fillna(df_HD['do_rong_duong'].mean(),inplace=True)\n",
    "df_HD['gia'].fillna(df_HD['gia'].mean(),inplace=True)\n",
    "df_HD['dien_tich'].fillna(df_HD['dien_tich'].mean(),inplace=True) "
   ]
  },
  {
   "cell_type": "code",
   "execution_count": 14,
   "metadata": {},
   "outputs": [],
   "source": [
    "# xóa feature giá/m2\n",
    "df_HD.drop(columns=['gia_m2'], inplace=True)"
   ]
  },
  {
   "cell_type": "code",
   "execution_count": 15,
   "metadata": {},
   "outputs": [
    {
     "data": {
      "text/plain": [
       "dien_tich           0\n",
       "mat_tien            0\n",
       "huong_nha           0\n",
       "gia                 0\n",
       "do_rong_duong       0\n",
       "do_rong_duong_ml    0\n",
       "dtype: int64"
      ]
     },
     "execution_count": 15,
     "metadata": {},
     "output_type": "execute_result"
    }
   ],
   "source": [
    "df_HD.isna().sum()"
   ]
  },
  {
   "cell_type": "markdown",
   "metadata": {},
   "source": [
    "# Xử lý giá trị ngoại lai"
   ]
  },
  {
   "cell_type": "code",
   "execution_count": 16,
   "metadata": {},
   "outputs": [
    {
     "data": {
      "text/plain": [
       "<AxesSubplot:>"
      ]
     },
     "execution_count": 16,
     "metadata": {},
     "output_type": "execute_result"
    },
    {
     "data": {
      "image/png": "[encoded data removed]",
      "text/plain": [
       "<Figure size 432x288 with 1 Axes>"
      ]
     },
     "metadata": {
      "needs_background": "light"
     },
     "output_type": "display_data"
    }
   ],
   "source": [
    "df_HD.boxplot()"
   ]
  },
  {
   "cell_type": "code",
   "execution_count": 17,
   "metadata": {},
   "outputs": [
    {
     "name": "stdout",
     "output_type": "stream",
     "text": [
      "dien_tich           23.000000\n",
      "mat_tien             4.012276\n",
      "gia              13170.548468\n",
      "do_rong_duong        0.000000\n",
      "dtype: float64\n"
     ]
    }
   ],
   "source": [
    "Q1 = df_HD.quantile(0.25)\n",
    "Q3 = df_HD.quantile(0.75)\n",
    "IQR = Q3 - Q1\n",
    "print(IQR)"
   ]
  },
  {
   "cell_type": "code",
   "execution_count": 18,
   "metadata": {},
   "outputs": [
    {
     "name": "stderr",
     "output_type": "stream",
     "text": [
      "C:\\Users\\ACERNI~1\\AppData\\Local\\Temp/ipykernel_16856/2998526406.py:2: FutureWarning: Automatic reindexing on DataFrame vs Series comparisons is deprecated and will raise ValueError in a future version.  Do `left, right = left.align(right, axis=1, copy=False)` before e.g. `left == right`\n",
      "  df_HD = df_HD[~((df_HD < (Q1 - 1.5 * IQR)) | (df_HD > (Q3 + 1.5 * IQR))).any(axis=1)]\n"
     ]
    }
   ],
   "source": [
    "# lọc dữ liệu ngoại lai\n",
    "df_HD = df_HD[~((df_HD < (Q1 - 1.5 * IQR)) | (df_HD > (Q3 + 1.5 * IQR))).any(axis=1)]"
   ]
  },
  {
   "cell_type": "code",
   "execution_count": 19,
   "metadata": {},
   "outputs": [
    {
     "data": {
      "text/plain": [
       "<AxesSubplot:>"
      ]
     },
     "execution_count": 19,
     "metadata": {},
     "output_type": "execute_result"
    },
    {
     "data": {
      "image/png": "[encoded data removed]",
      "text/plain": [
       "<Figure size 432x288 with 1 Axes>"
      ]
     },
     "metadata": {
      "needs_background": "light"
     },
     "output_type": "display_data"
    }
   ],
   "source": [
    "df_HD.boxplot()"
   ]
  },
  {
   "cell_type": "markdown",
   "metadata": {},
   "source": [
    "# Chuẩn bị dữ liệu "
   ]
  },
  {
   "cell_type": "code",
   "execution_count": 20,
   "metadata": {},
   "outputs": [],
   "source": [
    "from sklearn.dummy import DummyRegressor\n",
    "from sklearn.linear_model import LinearRegression\n",
    "from sklearn.model_selection import train_test_split\n",
    "from sklearn.preprocessing import StandardScaler\n",
    "from sklearn.metrics import r2_score\n",
    "from sklearn.metrics import mean_squared_error, mean_absolute_error, mean_absolute_percentage_error\n",
    "from scipy.stats import f_oneway"
   ]
  },
  {
   "cell_type": "code",
   "execution_count": 21,
   "metadata": {},
   "outputs": [
    {
     "name": "stdout",
     "output_type": "stream",
     "text": [
      "<class 'pandas.core.frame.DataFrame'>\n",
      "Int64Index: 1345 entries, 0 to 1721\n",
      "Data columns (total 6 columns):\n",
      " #   Column            Non-Null Count  Dtype  \n",
      "---  ------            --------------  -----  \n",
      " 0   dien_tich         1345 non-null   float64\n",
      " 1   mat_tien          1345 non-null   float64\n",
      " 2   huong_nha         1345 non-null   object \n",
      " 3   gia               1345 non-null   float64\n",
      " 4   do_rong_duong     1345 non-null   float64\n",
      " 5   do_rong_duong_ml  1345 non-null   object \n",
      "dtypes: float64(4), object(2)\n",
      "memory usage: 73.6+ KB\n"
     ]
    }
   ],
   "source": [
    "df_HD.info()"
   ]
  },
  {
   "cell_type": "code",
   "execution_count": 22,
   "metadata": {},
   "outputs": [
    {
     "data": {
      "text/html": [
       "<div>\n",
       "<style scoped>\n",
       "    .dataframe tbody tr th:only-of-type {\n",
       "        vertical-align: middle;\n",
       "    }\n",
       "\n",
       "    .dataframe tbody tr th {\n",
       "        vertical-align: top;\n",
       "    }\n",
       "\n",
       "    .dataframe thead th {\n",
       "        text-align: right;\n",
       "    }\n",
       "</style>\n",
       "<table border=\"1\" class=\"dataframe\">\n",
       "  <thead>\n",
       "    <tr style=\"text-align: right;\">\n",
       "      <th></th>\n",
       "      <th>dien_tich</th>\n",
       "      <th>mat_tien</th>\n",
       "      <th>huong_nha</th>\n",
       "      <th>gia</th>\n",
       "      <th>do_rong_duong</th>\n",
       "      <th>do_rong_duong_ml</th>\n",
       "    </tr>\n",
       "  </thead>\n",
       "  <tbody>\n",
       "    <tr>\n",
       "      <th>0</th>\n",
       "      <td>35.5</td>\n",
       "      <td>3.260000</td>\n",
       "      <td>KXĐ</td>\n",
       "      <td>1242.5</td>\n",
       "      <td>9.231401</td>\n",
       "      <td>KXĐ</td>\n",
       "    </tr>\n",
       "    <tr>\n",
       "      <th>4</th>\n",
       "      <td>41.0</td>\n",
       "      <td>8.012276</td>\n",
       "      <td>KXĐ</td>\n",
       "      <td>1480.0</td>\n",
       "      <td>9.231401</td>\n",
       "      <td>KXĐ</td>\n",
       "    </tr>\n",
       "    <tr>\n",
       "      <th>5</th>\n",
       "      <td>33.0</td>\n",
       "      <td>8.012276</td>\n",
       "      <td>Đông Nam</td>\n",
       "      <td>880.0</td>\n",
       "      <td>9.231401</td>\n",
       "      <td>KXĐ</td>\n",
       "    </tr>\n",
       "    <tr>\n",
       "      <th>6</th>\n",
       "      <td>60.0</td>\n",
       "      <td>8.012276</td>\n",
       "      <td>Tây Bắc</td>\n",
       "      <td>2340.0</td>\n",
       "      <td>9.231401</td>\n",
       "      <td>KXĐ</td>\n",
       "    </tr>\n",
       "    <tr>\n",
       "      <th>10</th>\n",
       "      <td>50.0</td>\n",
       "      <td>8.012276</td>\n",
       "      <td>KXĐ</td>\n",
       "      <td>1975.0</td>\n",
       "      <td>9.231401</td>\n",
       "      <td>KXĐ</td>\n",
       "    </tr>\n",
       "  </tbody>\n",
       "</table>\n",
       "</div>"
      ],
      "text/plain": [
       "    dien_tich  mat_tien huong_nha     gia  do_rong_duong do_rong_duong_ml\n",
       "0        35.5  3.260000       KXĐ  1242.5       9.231401              KXĐ\n",
       "4        41.0  8.012276       KXĐ  1480.0       9.231401              KXĐ\n",
       "5        33.0  8.012276  Đông Nam   880.0       9.231401              KXĐ\n",
       "6        60.0  8.012276   Tây Bắc  2340.0       9.231401              KXĐ\n",
       "10       50.0  8.012276       KXĐ  1975.0       9.231401              KXĐ"
      ]
     },
     "execution_count": 22,
     "metadata": {},
     "output_type": "execute_result"
    }
   ],
   "source": [
    "df_HD.head()"
   ]
  },
  {
   "cell_type": "code",
   "execution_count": 23,
   "metadata": {},
   "outputs": [],
   "source": [
    "df_target = pd.get_dummies(df_HD, columns =['huong_nha', 'do_rong_duong_ml'], dummy_na=True)"
   ]
  },
  {
   "cell_type": "code",
   "execution_count": 24,
   "metadata": {},
   "outputs": [],
   "source": [
    "y = df_target[\"gia\"].values\n",
    "X = df_target.drop(\"gia\", axis=1).values "
   ]
  },
  {
   "cell_type": "code",
   "execution_count": 25,
   "metadata": {},
   "outputs": [
    {
     "data": {
      "text/plain": [
       "(1345, 1)"
      ]
     },
     "execution_count": 25,
     "metadata": {},
     "output_type": "execute_result"
    }
   ],
   "source": [
    "# Dùng lệnh reshape để định dạng y thành vector cột (mảng 1 cột)\n",
    "y = y.reshape(-1,1)\n",
    "y.shape"
   ]
  },
  {
   "cell_type": "code",
   "execution_count": 26,
   "metadata": {},
   "outputs": [],
   "source": [
    "# # chia du lieu \n",
    "X_train, X_test, y_train, y_test = train_test_split(X, y, test_size=0.2, random_state=42)"
   ]
  },
  {
   "cell_type": "markdown",
   "metadata": {},
   "source": [
    "# Huấn luyện mô hình"
   ]
  },
  {
   "cell_type": "code",
   "execution_count": 27,
   "metadata": {},
   "outputs": [],
   "source": [
    "reg = LinearRegression().fit(X_train, y_train)"
   ]
  },
  {
   "cell_type": "code",
   "execution_count": 28,
   "metadata": {},
   "outputs": [
    {
     "name": "stdout",
     "output_type": "stream",
     "text": [
      "Mô hình hồi quy tuyến tính đã được huấn luyện, có các tham số:\n",
      "Intercept ( hệ số chặn ) = [1.28775399e+09]\n",
      "Coefficients ( hệ số góc ) = [[ 9.91272229e+01 -1.46244748e+02 -1.39492332e+08  5.08306495e+03\n",
      "   4.51647721e+03  4.86191604e+03  3.81064473e+03  2.32484484e+03\n",
      "   3.45126721e+03  3.83511194e+03  4.00143106e+03  3.65186429e+03\n",
      "   0.00000000e+00 -4.70006739e+04 -4.86925812e+04  0.00000000e+00]]\n"
     ]
    }
   ],
   "source": [
    "print(\"Mô hình hồi quy tuyến tính đã được huấn luyện, có các tham số:\")\n",
    "print(\"Intercept ( hệ số chặn ) =\", reg.intercept_)\n",
    "print(\"Coefficients ( hệ số góc ) =\", reg.coef_)"
   ]
  },
  {
   "cell_type": "code",
   "execution_count": 29,
   "metadata": {},
   "outputs": [
    {
     "name": "stdout",
     "output_type": "stream",
     "text": [
      "32968874.08053275\n",
      "8.715105756148535\n"
     ]
    }
   ],
   "source": [
    "pred = reg.predict(X_test)\n",
    "print(mean_squared_error(y_test, pred))\n",
    "print(mean_absolute_percentage_error(y_test, pred)) "
   ]
  },
  {
   "cell_type": "code",
   "execution_count": 30,
   "metadata": {},
   "outputs": [],
   "source": [
    "from sklearn.tree import DecisionTreeRegressor\n",
    "from sklearn.ensemble import RandomForestRegressor "
   ]
  },
  {
   "cell_type": "code",
   "execution_count": 31,
   "metadata": {},
   "outputs": [
    {
     "data": {
      "text/plain": [
       "DecisionTreeRegressor(random_state=42)"
      ]
     },
     "execution_count": 31,
     "metadata": {},
     "output_type": "execute_result"
    }
   ],
   "source": [
    "## cây quyết định\n",
    "regressor = DecisionTreeRegressor(random_state = 42) \n",
    "regressor.fit(X_train, y_train)"
   ]
  },
  {
   "cell_type": "code",
   "execution_count": 32,
   "metadata": {},
   "outputs": [
    {
     "name": "stdout",
     "output_type": "stream",
     "text": [
      "40285374.96299595\n",
      "6.454256950442405\n"
     ]
    }
   ],
   "source": [
    "prediction = regressor.predict(X_test)\n",
    "print(mean_squared_error(y_test, prediction))\n",
    "print(mean_absolute_percentage_error(y_test, prediction))"
   ]
  },
  {
   "cell_type": "code",
   "execution_count": 33,
   "metadata": {},
   "outputs": [
    {
     "name": "stderr",
     "output_type": "stream",
     "text": [
      "C:\\Users\\ACERNI~1\\AppData\\Local\\Temp/ipykernel_16856/3929511254.py:4: DataConversionWarning: A column-vector y was passed when a 1d array was expected. Please change the shape of y to (n_samples,), for example using ravel().\n",
      "  regr.fit(X_train, y_train)\n"
     ]
    },
    {
     "data": {
      "text/plain": [
       "RandomForestRegressor(max_depth=2, random_state=42)"
      ]
     },
     "execution_count": 33,
     "metadata": {},
     "output_type": "execute_result"
    }
   ],
   "source": [
    "## randomforest\n",
    "# random forest\n",
    "regr = RandomForestRegressor(max_depth=2, random_state=42)\n",
    "regr.fit(X_train, y_train)"
   ]
  },
  {
   "cell_type": "code",
   "execution_count": 34,
   "metadata": {},
   "outputs": [
    {
     "name": "stdout",
     "output_type": "stream",
     "text": [
      "32862919.05084963\n",
      "9.319866034188355\n"
     ]
    }
   ],
   "source": [
    "predict = regr.predict(X_test)\n",
    "print(mean_squared_error(y_test, predict))\n",
    "print(mean_absolute_percentage_error(y_test, predict))"
   ]
  },
  {
   "cell_type": "code",
   "execution_count": 35,
   "metadata": {},
   "outputs": [
    {
     "data": {
      "text/html": [
       "<div>\n",
       "<style scoped>\n",
       "    .dataframe tbody tr th:only-of-type {\n",
       "        vertical-align: middle;\n",
       "    }\n",
       "\n",
       "    .dataframe tbody tr th {\n",
       "        vertical-align: top;\n",
       "    }\n",
       "\n",
       "    .dataframe thead th {\n",
       "        text-align: right;\n",
       "    }\n",
       "</style>\n",
       "<table border=\"1\" class=\"dataframe\">\n",
       "  <thead>\n",
       "    <tr style=\"text-align: right;\">\n",
       "      <th></th>\n",
       "      <th>dien_tich</th>\n",
       "      <th>mat_tien</th>\n",
       "      <th>gia</th>\n",
       "      <th>do_rong_duong</th>\n",
       "    </tr>\n",
       "  </thead>\n",
       "  <tbody>\n",
       "    <tr>\n",
       "      <th>dien_tich</th>\n",
       "      <td>1.000000</td>\n",
       "      <td>0.127004</td>\n",
       "      <td>0.255673</td>\n",
       "      <td>NaN</td>\n",
       "    </tr>\n",
       "    <tr>\n",
       "      <th>mat_tien</th>\n",
       "      <td>0.127004</td>\n",
       "      <td>1.000000</td>\n",
       "      <td>-0.005966</td>\n",
       "      <td>NaN</td>\n",
       "    </tr>\n",
       "    <tr>\n",
       "      <th>gia</th>\n",
       "      <td>0.255673</td>\n",
       "      <td>-0.005966</td>\n",
       "      <td>1.000000</td>\n",
       "      <td>NaN</td>\n",
       "    </tr>\n",
       "    <tr>\n",
       "      <th>do_rong_duong</th>\n",
       "      <td>NaN</td>\n",
       "      <td>NaN</td>\n",
       "      <td>NaN</td>\n",
       "      <td>NaN</td>\n",
       "    </tr>\n",
       "  </tbody>\n",
       "</table>\n",
       "</div>"
      ],
      "text/plain": [
       "               dien_tich  mat_tien       gia  do_rong_duong\n",
       "dien_tich       1.000000  0.127004  0.255673            NaN\n",
       "mat_tien        0.127004  1.000000 -0.005966            NaN\n",
       "gia             0.255673 -0.005966  1.000000            NaN\n",
       "do_rong_duong        NaN       NaN       NaN            NaN"
      ]
     },
     "execution_count": 35,
     "metadata": {},
     "output_type": "execute_result"
    }
   ],
   "source": [
    "df_HD.corr() "
   ]
  },
  {
   "cell_type": "code",
   "execution_count": 36,
   "metadata": {},
   "outputs": [],
   "source": [
    "from sklearn.decomposition import PCA"
   ]
  },
  {
   "cell_type": "code",
   "execution_count": 37,
   "metadata": {},
   "outputs": [
    {
     "data": {
      "text/html": [
       "<div>\n",
       "<style scoped>\n",
       "    .dataframe tbody tr th:only-of-type {\n",
       "        vertical-align: middle;\n",
       "    }\n",
       "\n",
       "    .dataframe tbody tr th {\n",
       "        vertical-align: top;\n",
       "    }\n",
       "\n",
       "    .dataframe thead th {\n",
       "        text-align: right;\n",
       "    }\n",
       "</style>\n",
       "<table border=\"1\" class=\"dataframe\">\n",
       "  <thead>\n",
       "    <tr style=\"text-align: right;\">\n",
       "      <th></th>\n",
       "      <th>dien_tich</th>\n",
       "      <th>mat_tien</th>\n",
       "      <th>gia</th>\n",
       "      <th>do_rong_duong</th>\n",
       "      <th>huong_nha_Bắc</th>\n",
       "      <th>huong_nha_KXĐ</th>\n",
       "      <th>huong_nha_Nam</th>\n",
       "      <th>huong_nha_Tây</th>\n",
       "      <th>huong_nha_Tây Bắc</th>\n",
       "      <th>huong_nha_Tây Nam</th>\n",
       "      <th>huong_nha_Đông</th>\n",
       "      <th>huong_nha_Đông Bắc</th>\n",
       "      <th>huong_nha_Đông Nam</th>\n",
       "      <th>huong_nha_nan</th>\n",
       "      <th>do_rong_duong_ml_KXĐ</th>\n",
       "      <th>do_rong_duong_ml_Ngõ 1 ô tô</th>\n",
       "      <th>do_rong_duong_ml_nan</th>\n",
       "    </tr>\n",
       "  </thead>\n",
       "  <tbody>\n",
       "    <tr>\n",
       "      <th>dien_tich</th>\n",
       "      <td>1.000000</td>\n",
       "      <td>0.127004</td>\n",
       "      <td>0.255673</td>\n",
       "      <td>NaN</td>\n",
       "      <td>-0.034387</td>\n",
       "      <td>0.000094</td>\n",
       "      <td>-0.021315</td>\n",
       "      <td>-0.047619</td>\n",
       "      <td>-0.028929</td>\n",
       "      <td>0.052733</td>\n",
       "      <td>0.006278</td>\n",
       "      <td>0.042558</td>\n",
       "      <td>0.013637</td>\n",
       "      <td>NaN</td>\n",
       "      <td>0.045602</td>\n",
       "      <td>-0.045602</td>\n",
       "      <td>NaN</td>\n",
       "    </tr>\n",
       "    <tr>\n",
       "      <th>mat_tien</th>\n",
       "      <td>0.127004</td>\n",
       "      <td>1.000000</td>\n",
       "      <td>-0.005966</td>\n",
       "      <td>NaN</td>\n",
       "      <td>-0.080236</td>\n",
       "      <td>0.332081</td>\n",
       "      <td>-0.066477</td>\n",
       "      <td>-0.119940</td>\n",
       "      <td>-0.113438</td>\n",
       "      <td>-0.075173</td>\n",
       "      <td>-0.080168</td>\n",
       "      <td>-0.053466</td>\n",
       "      <td>-0.133666</td>\n",
       "      <td>NaN</td>\n",
       "      <td>-0.037254</td>\n",
       "      <td>0.037254</td>\n",
       "      <td>NaN</td>\n",
       "    </tr>\n",
       "    <tr>\n",
       "      <th>gia</th>\n",
       "      <td>0.255673</td>\n",
       "      <td>-0.005966</td>\n",
       "      <td>1.000000</td>\n",
       "      <td>NaN</td>\n",
       "      <td>0.005148</td>\n",
       "      <td>0.051392</td>\n",
       "      <td>0.045712</td>\n",
       "      <td>-0.022302</td>\n",
       "      <td>-0.082889</td>\n",
       "      <td>-0.012918</td>\n",
       "      <td>0.000283</td>\n",
       "      <td>0.004517</td>\n",
       "      <td>-0.025947</td>\n",
       "      <td>NaN</td>\n",
       "      <td>0.069228</td>\n",
       "      <td>-0.069228</td>\n",
       "      <td>NaN</td>\n",
       "    </tr>\n",
       "    <tr>\n",
       "      <th>do_rong_duong</th>\n",
       "      <td>NaN</td>\n",
       "      <td>NaN</td>\n",
       "      <td>NaN</td>\n",
       "      <td>NaN</td>\n",
       "      <td>NaN</td>\n",
       "      <td>NaN</td>\n",
       "      <td>NaN</td>\n",
       "      <td>NaN</td>\n",
       "      <td>NaN</td>\n",
       "      <td>NaN</td>\n",
       "      <td>NaN</td>\n",
       "      <td>NaN</td>\n",
       "      <td>NaN</td>\n",
       "      <td>NaN</td>\n",
       "      <td>NaN</td>\n",
       "      <td>NaN</td>\n",
       "      <td>NaN</td>\n",
       "    </tr>\n",
       "    <tr>\n",
       "      <th>huong_nha_Bắc</th>\n",
       "      <td>-0.034387</td>\n",
       "      <td>-0.080236</td>\n",
       "      <td>0.005148</td>\n",
       "      <td>NaN</td>\n",
       "      <td>1.000000</td>\n",
       "      <td>-0.191617</td>\n",
       "      <td>-0.035205</td>\n",
       "      <td>-0.032923</td>\n",
       "      <td>-0.045718</td>\n",
       "      <td>-0.043073</td>\n",
       "      <td>-0.037371</td>\n",
       "      <td>-0.032586</td>\n",
       "      <td>-0.055621</td>\n",
       "      <td>NaN</td>\n",
       "      <td>-0.008084</td>\n",
       "      <td>0.008084</td>\n",
       "      <td>NaN</td>\n",
       "    </tr>\n",
       "    <tr>\n",
       "      <th>huong_nha_KXĐ</th>\n",
       "      <td>0.000094</td>\n",
       "      <td>0.332081</td>\n",
       "      <td>0.051392</td>\n",
       "      <td>NaN</td>\n",
       "      <td>-0.191617</td>\n",
       "      <td>1.000000</td>\n",
       "      <td>-0.245288</td>\n",
       "      <td>-0.229388</td>\n",
       "      <td>-0.318536</td>\n",
       "      <td>-0.300107</td>\n",
       "      <td>-0.260378</td>\n",
       "      <td>-0.227040</td>\n",
       "      <td>-0.387533</td>\n",
       "      <td>NaN</td>\n",
       "      <td>-0.020954</td>\n",
       "      <td>0.020954</td>\n",
       "      <td>NaN</td>\n",
       "    </tr>\n",
       "    <tr>\n",
       "      <th>huong_nha_Nam</th>\n",
       "      <td>-0.021315</td>\n",
       "      <td>-0.066477</td>\n",
       "      <td>0.045712</td>\n",
       "      <td>NaN</td>\n",
       "      <td>-0.035205</td>\n",
       "      <td>-0.245288</td>\n",
       "      <td>1.000000</td>\n",
       "      <td>-0.042145</td>\n",
       "      <td>-0.058524</td>\n",
       "      <td>-0.055138</td>\n",
       "      <td>-0.047838</td>\n",
       "      <td>-0.041713</td>\n",
       "      <td>-0.071200</td>\n",
       "      <td>NaN</td>\n",
       "      <td>0.030954</td>\n",
       "      <td>-0.030954</td>\n",
       "      <td>NaN</td>\n",
       "    </tr>\n",
       "    <tr>\n",
       "      <th>huong_nha_Tây</th>\n",
       "      <td>-0.047619</td>\n",
       "      <td>-0.119940</td>\n",
       "      <td>-0.022302</td>\n",
       "      <td>NaN</td>\n",
       "      <td>-0.032923</td>\n",
       "      <td>-0.229388</td>\n",
       "      <td>-0.042145</td>\n",
       "      <td>1.000000</td>\n",
       "      <td>-0.054730</td>\n",
       "      <td>-0.051563</td>\n",
       "      <td>-0.044737</td>\n",
       "      <td>-0.039009</td>\n",
       "      <td>-0.066585</td>\n",
       "      <td>NaN</td>\n",
       "      <td>0.028947</td>\n",
       "      <td>-0.028947</td>\n",
       "      <td>NaN</td>\n",
       "    </tr>\n",
       "    <tr>\n",
       "      <th>huong_nha_Tây Bắc</th>\n",
       "      <td>-0.028929</td>\n",
       "      <td>-0.113438</td>\n",
       "      <td>-0.082889</td>\n",
       "      <td>NaN</td>\n",
       "      <td>-0.045718</td>\n",
       "      <td>-0.318536</td>\n",
       "      <td>-0.058524</td>\n",
       "      <td>-0.054730</td>\n",
       "      <td>1.000000</td>\n",
       "      <td>-0.071603</td>\n",
       "      <td>-0.062124</td>\n",
       "      <td>-0.054170</td>\n",
       "      <td>-0.092462</td>\n",
       "      <td>NaN</td>\n",
       "      <td>0.019872</td>\n",
       "      <td>-0.019872</td>\n",
       "      <td>NaN</td>\n",
       "    </tr>\n",
       "    <tr>\n",
       "      <th>huong_nha_Tây Nam</th>\n",
       "      <td>0.052733</td>\n",
       "      <td>-0.075173</td>\n",
       "      <td>-0.012918</td>\n",
       "      <td>NaN</td>\n",
       "      <td>-0.043073</td>\n",
       "      <td>-0.300107</td>\n",
       "      <td>-0.055138</td>\n",
       "      <td>-0.051563</td>\n",
       "      <td>-0.071603</td>\n",
       "      <td>1.000000</td>\n",
       "      <td>-0.058530</td>\n",
       "      <td>-0.051036</td>\n",
       "      <td>-0.087113</td>\n",
       "      <td>NaN</td>\n",
       "      <td>0.016469</td>\n",
       "      <td>-0.016469</td>\n",
       "      <td>NaN</td>\n",
       "    </tr>\n",
       "    <tr>\n",
       "      <th>huong_nha_Đông</th>\n",
       "      <td>0.006278</td>\n",
       "      <td>-0.080168</td>\n",
       "      <td>0.000283</td>\n",
       "      <td>NaN</td>\n",
       "      <td>-0.037371</td>\n",
       "      <td>-0.260378</td>\n",
       "      <td>-0.047838</td>\n",
       "      <td>-0.044737</td>\n",
       "      <td>-0.062124</td>\n",
       "      <td>-0.058530</td>\n",
       "      <td>1.000000</td>\n",
       "      <td>-0.044279</td>\n",
       "      <td>-0.075580</td>\n",
       "      <td>NaN</td>\n",
       "      <td>0.008576</td>\n",
       "      <td>-0.008576</td>\n",
       "      <td>NaN</td>\n",
       "    </tr>\n",
       "    <tr>\n",
       "      <th>huong_nha_Đông Bắc</th>\n",
       "      <td>0.042558</td>\n",
       "      <td>-0.053466</td>\n",
       "      <td>0.004517</td>\n",
       "      <td>NaN</td>\n",
       "      <td>-0.032586</td>\n",
       "      <td>-0.227040</td>\n",
       "      <td>-0.041713</td>\n",
       "      <td>-0.039009</td>\n",
       "      <td>-0.054170</td>\n",
       "      <td>-0.051036</td>\n",
       "      <td>-0.044279</td>\n",
       "      <td>1.000000</td>\n",
       "      <td>-0.065903</td>\n",
       "      <td>NaN</td>\n",
       "      <td>-0.026400</td>\n",
       "      <td>0.026400</td>\n",
       "      <td>NaN</td>\n",
       "    </tr>\n",
       "    <tr>\n",
       "      <th>huong_nha_Đông Nam</th>\n",
       "      <td>0.013637</td>\n",
       "      <td>-0.133666</td>\n",
       "      <td>-0.025947</td>\n",
       "      <td>NaN</td>\n",
       "      <td>-0.055621</td>\n",
       "      <td>-0.387533</td>\n",
       "      <td>-0.071200</td>\n",
       "      <td>-0.066585</td>\n",
       "      <td>-0.092462</td>\n",
       "      <td>-0.087113</td>\n",
       "      <td>-0.075580</td>\n",
       "      <td>-0.065903</td>\n",
       "      <td>1.000000</td>\n",
       "      <td>NaN</td>\n",
       "      <td>-0.020188</td>\n",
       "      <td>0.020188</td>\n",
       "      <td>NaN</td>\n",
       "    </tr>\n",
       "    <tr>\n",
       "      <th>huong_nha_nan</th>\n",
       "      <td>NaN</td>\n",
       "      <td>NaN</td>\n",
       "      <td>NaN</td>\n",
       "      <td>NaN</td>\n",
       "      <td>NaN</td>\n",
       "      <td>NaN</td>\n",
       "      <td>NaN</td>\n",
       "      <td>NaN</td>\n",
       "      <td>NaN</td>\n",
       "      <td>NaN</td>\n",
       "      <td>NaN</td>\n",
       "      <td>NaN</td>\n",
       "      <td>NaN</td>\n",
       "      <td>NaN</td>\n",
       "      <td>NaN</td>\n",
       "      <td>NaN</td>\n",
       "      <td>NaN</td>\n",
       "    </tr>\n",
       "    <tr>\n",
       "      <th>do_rong_duong_ml_KXĐ</th>\n",
       "      <td>0.045602</td>\n",
       "      <td>-0.037254</td>\n",
       "      <td>0.069228</td>\n",
       "      <td>NaN</td>\n",
       "      <td>-0.008084</td>\n",
       "      <td>-0.020954</td>\n",
       "      <td>0.030954</td>\n",
       "      <td>0.028947</td>\n",
       "      <td>0.019872</td>\n",
       "      <td>0.016469</td>\n",
       "      <td>0.008576</td>\n",
       "      <td>-0.026400</td>\n",
       "      <td>-0.020188</td>\n",
       "      <td>NaN</td>\n",
       "      <td>1.000000</td>\n",
       "      <td>-1.000000</td>\n",
       "      <td>NaN</td>\n",
       "    </tr>\n",
       "    <tr>\n",
       "      <th>do_rong_duong_ml_Ngõ 1 ô tô</th>\n",
       "      <td>-0.045602</td>\n",
       "      <td>0.037254</td>\n",
       "      <td>-0.069228</td>\n",
       "      <td>NaN</td>\n",
       "      <td>0.008084</td>\n",
       "      <td>0.020954</td>\n",
       "      <td>-0.030954</td>\n",
       "      <td>-0.028947</td>\n",
       "      <td>-0.019872</td>\n",
       "      <td>-0.016469</td>\n",
       "      <td>-0.008576</td>\n",
       "      <td>0.026400</td>\n",
       "      <td>0.020188</td>\n",
       "      <td>NaN</td>\n",
       "      <td>-1.000000</td>\n",
       "      <td>1.000000</td>\n",
       "      <td>NaN</td>\n",
       "    </tr>\n",
       "    <tr>\n",
       "      <th>do_rong_duong_ml_nan</th>\n",
       "      <td>NaN</td>\n",
       "      <td>NaN</td>\n",
       "      <td>NaN</td>\n",
       "      <td>NaN</td>\n",
       "      <td>NaN</td>\n",
       "      <td>NaN</td>\n",
       "      <td>NaN</td>\n",
       "      <td>NaN</td>\n",
       "      <td>NaN</td>\n",
       "      <td>NaN</td>\n",
       "      <td>NaN</td>\n",
       "      <td>NaN</td>\n",
       "      <td>NaN</td>\n",
       "      <td>NaN</td>\n",
       "      <td>NaN</td>\n",
       "      <td>NaN</td>\n",
       "      <td>NaN</td>\n",
       "    </tr>\n",
       "  </tbody>\n",
       "</table>\n",
       "</div>"
      ],
      "text/plain": [
       "                             dien_tich  mat_tien       gia  do_rong_duong  \\\n",
       "dien_tich                     1.000000  0.127004  0.255673            NaN   \n",
       "mat_tien                      0.127004  1.000000 -0.005966            NaN   \n",
       "gia                           0.255673 -0.005966  1.000000            NaN   \n",
       "do_rong_duong                      NaN       NaN       NaN            NaN   \n",
       "huong_nha_Bắc                -0.034387 -0.080236  0.005148            NaN   \n",
       "huong_nha_KXĐ                 0.000094  0.332081  0.051392            NaN   \n",
       "huong_nha_Nam                -0.021315 -0.066477  0.045712            NaN   \n",
       "huong_nha_Tây                -0.047619 -0.119940 -0.022302            NaN   \n",
       "huong_nha_Tây Bắc            -0.028929 -0.113438 -0.082889            NaN   \n",
       "huong_nha_Tây Nam             0.052733 -0.075173 -0.012918            NaN   \n",
       "huong_nha_Đông                0.006278 -0.080168  0.000283            NaN   \n",
       "huong_nha_Đông Bắc            0.042558 -0.053466  0.004517            NaN   \n",
       "huong_nha_Đông Nam            0.013637 -0.133666 -0.025947            NaN   \n",
       "huong_nha_nan                      NaN       NaN       NaN            NaN   \n",
       "do_rong_duong_ml_KXĐ          0.045602 -0.037254  0.069228            NaN   \n",
       "do_rong_duong_ml_Ngõ 1 ô tô  -0.045602  0.037254 -0.069228            NaN   \n",
       "do_rong_duong_ml_nan               NaN       NaN       NaN            NaN   \n",
       "\n",
       "                             huong_nha_Bắc  huong_nha_KXĐ  huong_nha_Nam  \\\n",
       "dien_tich                        -0.034387       0.000094      -0.021315   \n",
       "mat_tien                         -0.080236       0.332081      -0.066477   \n",
       "gia                               0.005148       0.051392       0.045712   \n",
       "do_rong_duong                          NaN            NaN            NaN   \n",
       "huong_nha_Bắc                     1.000000      -0.191617      -0.035205   \n",
       "huong_nha_KXĐ                    -0.191617       1.000000      -0.245288   \n",
       "huong_nha_Nam                    -0.035205      -0.245288       1.000000   \n",
       "huong_nha_Tây                    -0.032923      -0.229388      -0.042145   \n",
       "huong_nha_Tây Bắc                -0.045718      -0.318536      -0.058524   \n",
       "huong_nha_Tây Nam                -0.043073      -0.300107      -0.055138   \n",
       "huong_nha_Đông                   -0.037371      -0.260378      -0.047838   \n",
       "huong_nha_Đông Bắc               -0.032586      -0.227040      -0.041713   \n",
       "huong_nha_Đông Nam               -0.055621      -0.387533      -0.071200   \n",
       "huong_nha_nan                          NaN            NaN            NaN   \n",
       "do_rong_duong_ml_KXĐ             -0.008084      -0.020954       0.030954   \n",
       "do_rong_duong_ml_Ngõ 1 ô tô       0.008084       0.020954      -0.030954   \n",
       "do_rong_duong_ml_nan                   NaN            NaN            NaN   \n",
       "\n",
       "                             huong_nha_Tây  huong_nha_Tây Bắc  \\\n",
       "dien_tich                        -0.047619          -0.028929   \n",
       "mat_tien                         -0.119940          -0.113438   \n",
       "gia                              -0.022302          -0.082889   \n",
       "do_rong_duong                          NaN                NaN   \n",
       "huong_nha_Bắc                    -0.032923          -0.045718   \n",
       "huong_nha_KXĐ                    -0.229388          -0.318536   \n",
       "huong_nha_Nam                    -0.042145          -0.058524   \n",
       "huong_nha_Tây                     1.000000          -0.054730   \n",
       "huong_nha_Tây Bắc                -0.054730           1.000000   \n",
       "huong_nha_Tây Nam                -0.051563          -0.071603   \n",
       "huong_nha_Đông                   -0.044737          -0.062124   \n",
       "huong_nha_Đông Bắc               -0.039009          -0.054170   \n",
       "huong_nha_Đông Nam               -0.066585          -0.092462   \n",
       "huong_nha_nan                          NaN                NaN   \n",
       "do_rong_duong_ml_KXĐ              0.028947           0.019872   \n",
       "do_rong_duong_ml_Ngõ 1 ô tô      -0.028947          -0.019872   \n",
       "do_rong_duong_ml_nan                   NaN                NaN   \n",
       "\n",
       "                             huong_nha_Tây Nam  huong_nha_Đông  \\\n",
       "dien_tich                             0.052733        0.006278   \n",
       "mat_tien                             -0.075173       -0.080168   \n",
       "gia                                  -0.012918        0.000283   \n",
       "do_rong_duong                              NaN             NaN   \n",
       "huong_nha_Bắc                        -0.043073       -0.037371   \n",
       "huong_nha_KXĐ                        -0.300107       -0.260378   \n",
       "huong_nha_Nam                        -0.055138       -0.047838   \n",
       "huong_nha_Tây                        -0.051563       -0.044737   \n",
       "huong_nha_Tây Bắc                    -0.071603       -0.062124   \n",
       "huong_nha_Tây Nam                     1.000000       -0.058530   \n",
       "huong_nha_Đông                       -0.058530        1.000000   \n",
       "huong_nha_Đông Bắc                   -0.051036       -0.044279   \n",
       "huong_nha_Đông Nam                   -0.087113       -0.075580   \n",
       "huong_nha_nan                              NaN             NaN   \n",
       "do_rong_duong_ml_KXĐ                  0.016469        0.008576   \n",
       "do_rong_duong_ml_Ngõ 1 ô tô          -0.016469       -0.008576   \n",
       "do_rong_duong_ml_nan                       NaN             NaN   \n",
       "\n",
       "                             huong_nha_Đông Bắc  huong_nha_Đông Nam  \\\n",
       "dien_tich                              0.042558            0.013637   \n",
       "mat_tien                              -0.053466           -0.133666   \n",
       "gia                                    0.004517           -0.025947   \n",
       "do_rong_duong                               NaN                 NaN   \n",
       "huong_nha_Bắc                         -0.032586           -0.055621   \n",
       "huong_nha_KXĐ                         -0.227040           -0.387533   \n",
       "huong_nha_Nam                         -0.041713           -0.071200   \n",
       "huong_nha_Tây                         -0.039009           -0.066585   \n",
       "huong_nha_Tây Bắc                     -0.054170           -0.092462   \n",
       "huong_nha_Tây Nam                     -0.051036           -0.087113   \n",
       "huong_nha_Đông                        -0.044279           -0.075580   \n",
       "huong_nha_Đông Bắc                     1.000000           -0.065903   \n",
       "huong_nha_Đông Nam                    -0.065903            1.000000   \n",
       "huong_nha_nan                               NaN                 NaN   \n",
       "do_rong_duong_ml_KXĐ                  -0.026400           -0.020188   \n",
       "do_rong_duong_ml_Ngõ 1 ô tô            0.026400            0.020188   \n",
       "do_rong_duong_ml_nan                        NaN                 NaN   \n",
       "\n",
       "                             huong_nha_nan  do_rong_duong_ml_KXĐ  \\\n",
       "dien_tich                              NaN              0.045602   \n",
       "mat_tien                               NaN             -0.037254   \n",
       "gia                                    NaN              0.069228   \n",
       "do_rong_duong                          NaN                   NaN   \n",
       "huong_nha_Bắc                          NaN             -0.008084   \n",
       "huong_nha_KXĐ                          NaN             -0.020954   \n",
       "huong_nha_Nam                          NaN              0.030954   \n",
       "huong_nha_Tây                          NaN              0.028947   \n",
       "huong_nha_Tây Bắc                      NaN              0.019872   \n",
       "huong_nha_Tây Nam                      NaN              0.016469   \n",
       "huong_nha_Đông                         NaN              0.008576   \n",
       "huong_nha_Đông Bắc                     NaN             -0.026400   \n",
       "huong_nha_Đông Nam                     NaN             -0.020188   \n",
       "huong_nha_nan                          NaN                   NaN   \n",
       "do_rong_duong_ml_KXĐ                   NaN              1.000000   \n",
       "do_rong_duong_ml_Ngõ 1 ô tô            NaN             -1.000000   \n",
       "do_rong_duong_ml_nan                   NaN                   NaN   \n",
       "\n",
       "                             do_rong_duong_ml_Ngõ 1 ô tô  do_rong_duong_ml_nan  \n",
       "dien_tich                                      -0.045602                   NaN  \n",
       "mat_tien                                        0.037254                   NaN  \n",
       "gia                                            -0.069228                   NaN  \n",
       "do_rong_duong                                        NaN                   NaN  \n",
       "huong_nha_Bắc                                   0.008084                   NaN  \n",
       "huong_nha_KXĐ                                   0.020954                   NaN  \n",
       "huong_nha_Nam                                  -0.030954                   NaN  \n",
       "huong_nha_Tây                                  -0.028947                   NaN  \n",
       "huong_nha_Tây Bắc                              -0.019872                   NaN  \n",
       "huong_nha_Tây Nam                              -0.016469                   NaN  \n",
       "huong_nha_Đông                                 -0.008576                   NaN  \n",
       "huong_nha_Đông Bắc                              0.026400                   NaN  \n",
       "huong_nha_Đông Nam                              0.020188                   NaN  \n",
       "huong_nha_nan                                        NaN                   NaN  \n",
       "do_rong_duong_ml_KXĐ                           -1.000000                   NaN  \n",
       "do_rong_duong_ml_Ngõ 1 ô tô                     1.000000                   NaN  \n",
       "do_rong_duong_ml_nan                                 NaN                   NaN  "
      ]
     },
     "execution_count": 37,
     "metadata": {},
     "output_type": "execute_result"
    }
   ],
   "source": [
    "df_HDcorr = df_target.corr()\n",
    "df_HDcorr"
   ]
  },
  {
   "cell_type": "code",
   "execution_count": null,
   "metadata": {},
   "outputs": [],
   "source": []
  }
 ],
 "metadata": {
  "kernelspec": {
   "display_name": "Python 3.9.7 ('base')",
   "language": "python",
   "name": "python3"
  },
  "language_info": {
   "codemirror_mode": {
    "name": "ipython",
    "version": 3
   },
   "file_extension": ".py",
   "mimetype": "text/x-python",
   "name": "python",
   "nbconvert_exporter": "python",
   "pygments_lexer": "ipython3",
   "version": "3.9.7"
  },
  "orig_nbformat": 4,
  "vscode": {
   "interpreter": {
    "hash": "440c4360214cbd7cb3475a2b2e6c78f31c1d32bf5ea0dc5c31a0d7dd8338aeb9"
   }
  }
 },
 "nbformat": 4,
 "nbformat_minor": 2
}
